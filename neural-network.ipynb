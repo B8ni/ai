{
 "cells": [
  {
   "cell_type": "markdown",
   "id": "746106d4",
   "metadata": {
    "papermill": {
     "duration": 0.005703,
     "end_time": "2022-12-07T16:03:14.011599",
     "exception": false,
     "start_time": "2022-12-07T16:03:14.005896",
     "status": "completed"
    },
    "tags": []
   },
   "source": [
    "# Neural Network"
   ]
  },
  {
   "cell_type": "markdown",
   "id": "62288cb9",
   "metadata": {
    "papermill": {
     "duration": 0.004008,
     "end_time": "2022-12-07T16:03:14.020210",
     "exception": false,
     "start_time": "2022-12-07T16:03:14.016202",
     "status": "completed"
    },
    "tags": []
   },
   "source": [
    "## One Liner Definition\n",
    "Neural Network is a mathematical function. \n",
    "\n",
    "This mathematical function is based on inputs and parameters.\n",
    "\n",
    "Inputs and parameters are multiplied and added them up. Negative values are set to zero.\n",
    "\n",
    "These operations are repeated untill the error of prediction is minimized."
   ]
  },
  {
   "cell_type": "markdown",
   "id": "3ca89a93",
   "metadata": {
    "papermill": {
     "duration": 0.004166,
     "end_time": "2022-12-07T16:03:14.029101",
     "exception": false,
     "start_time": "2022-12-07T16:03:14.024935",
     "status": "completed"
    },
    "tags": []
   },
   "source": [
    "## Motivation\n",
    "\n",
    "Those 3 simple steps are the foundation of any deep learning model.\n",
    "\n",
    "Implicitally they touch most important parts of NN:\n",
    "1. Inputs and parameters are multiplied and added them up => [Matrix multiplication]();\n",
    "2. Negative values are set to zero => [Rectified Linear function]();\n",
    "3. Operations repeated untill error of prediction is minimized => [Gradient descent]() on [Loss function]().\n",
    "\n",
    "The most complex deep learning model is built on these foundamentals. Deeply understanding them will help to breaking every complex model out."
   ]
  },
  {
   "cell_type": "markdown",
   "id": "79dd29fc",
   "metadata": {
    "papermill": {
     "duration": 0.004702,
     "end_time": "2022-12-07T16:03:14.038188",
     "exception": false,
     "start_time": "2022-12-07T16:03:14.033486",
     "status": "completed"
    },
    "tags": []
   },
   "source": [
    "## Implementation"
   ]
  },
  {
   "cell_type": "code",
   "execution_count": 1,
   "id": "4ac91bfc",
   "metadata": {
    "execution": {
     "iopub.execute_input": "2022-12-07T16:03:14.050691Z",
     "iopub.status.busy": "2022-12-07T16:03:14.049940Z",
     "iopub.status.idle": "2022-12-07T16:03:14.063870Z",
     "shell.execute_reply": "2022-12-07T16:03:14.062822Z"
    },
    "papermill": {
     "duration": 0.023298,
     "end_time": "2022-12-07T16:03:14.066582",
     "exception": false,
     "start_time": "2022-12-07T16:03:14.043284",
     "status": "completed"
    },
    "tags": []
   },
   "outputs": [],
   "source": [
    "def f(x): return  3*x**2 + 2*x + 1"
   ]
  },
  {
   "cell_type": "code",
   "execution_count": 2,
   "id": "119e4dd9",
   "metadata": {
    "execution": {
     "iopub.execute_input": "2022-12-07T16:03:14.078368Z",
     "iopub.status.busy": "2022-12-07T16:03:14.077512Z",
     "iopub.status.idle": "2022-12-07T16:03:14.082825Z",
     "shell.execute_reply": "2022-12-07T16:03:14.081716Z"
    },
    "papermill": {
     "duration": 0.013852,
     "end_time": "2022-12-07T16:03:14.085096",
     "exception": false,
     "start_time": "2022-12-07T16:03:14.071244",
     "status": "completed"
    },
    "tags": []
   },
   "outputs": [],
   "source": [
    "def quad(a, b, c, x): return a*x**2 + b*x + c"
   ]
  },
  {
   "cell_type": "code",
   "execution_count": 3,
   "id": "ee6a6afd",
   "metadata": {
    "execution": {
     "iopub.execute_input": "2022-12-07T16:03:14.096702Z",
     "iopub.status.busy": "2022-12-07T16:03:14.095795Z",
     "iopub.status.idle": "2022-12-07T16:03:14.101641Z",
     "shell.execute_reply": "2022-12-07T16:03:14.100687Z"
    },
    "papermill": {
     "duration": 0.014447,
     "end_time": "2022-12-07T16:03:14.104044",
     "exception": false,
     "start_time": "2022-12-07T16:03:14.089597",
     "status": "completed"
    },
    "tags": []
   },
   "outputs": [],
   "source": [
    "def noise(x, scale): return np.random.normal(scale=scale, size=x.shape)\n",
    "def add_noise(x, mult, add): return x * (1+noise(x,mult)) + noise(x,add)"
   ]
  },
  {
   "cell_type": "code",
   "execution_count": 4,
   "id": "95959e01",
   "metadata": {
    "execution": {
     "iopub.execute_input": "2022-12-07T16:03:14.115984Z",
     "iopub.status.busy": "2022-12-07T16:03:14.115220Z",
     "iopub.status.idle": "2022-12-07T16:03:16.241540Z",
     "shell.execute_reply": "2022-12-07T16:03:16.240153Z"
    },
    "papermill": {
     "duration": 2.135472,
     "end_time": "2022-12-07T16:03:16.244345",
     "exception": false,
     "start_time": "2022-12-07T16:03:14.108873",
     "status": "completed"
    },
    "tags": []
   },
   "outputs": [],
   "source": [
    "import numpy as np\n",
    "import torch\n",
    "\n",
    "np.random.seed(42)\n",
    "\n",
    "x = torch.linspace(-2, 2, steps=20)[:,None]\n",
    "y = add_noise(f(x), 0.15, 1.5)"
   ]
  },
  {
   "cell_type": "code",
   "execution_count": 5,
   "id": "960c5367",
   "metadata": {
    "execution": {
     "iopub.execute_input": "2022-12-07T16:03:16.255509Z",
     "iopub.status.busy": "2022-12-07T16:03:16.254818Z",
     "iopub.status.idle": "2022-12-07T16:03:16.260644Z",
     "shell.execute_reply": "2022-12-07T16:03:16.259562Z"
    },
    "papermill": {
     "duration": 0.014077,
     "end_time": "2022-12-07T16:03:16.263081",
     "exception": false,
     "start_time": "2022-12-07T16:03:16.249004",
     "status": "completed"
    },
    "tags": []
   },
   "outputs": [],
   "source": [
    "from functools import partial\n",
    "\n",
    "def mk_quad(a, b, c): return partial(quad, a, b, c)"
   ]
  },
  {
   "cell_type": "code",
   "execution_count": 6,
   "id": "5e69fa98",
   "metadata": {
    "execution": {
     "iopub.execute_input": "2022-12-07T16:03:16.274148Z",
     "iopub.status.busy": "2022-12-07T16:03:16.273160Z",
     "iopub.status.idle": "2022-12-07T16:03:16.278871Z",
     "shell.execute_reply": "2022-12-07T16:03:16.277794Z"
    },
    "papermill": {
     "duration": 0.013959,
     "end_time": "2022-12-07T16:03:16.281489",
     "exception": false,
     "start_time": "2022-12-07T16:03:16.267530",
     "status": "completed"
    },
    "tags": []
   },
   "outputs": [],
   "source": [
    "def mae(pred, actual): return torch.abs(pred-actual).mean()"
   ]
  },
  {
   "cell_type": "code",
   "execution_count": 7,
   "id": "93a4b2bc",
   "metadata": {
    "execution": {
     "iopub.execute_input": "2022-12-07T16:03:16.292251Z",
     "iopub.status.busy": "2022-12-07T16:03:16.291893Z",
     "iopub.status.idle": "2022-12-07T16:03:16.297076Z",
     "shell.execute_reply": "2022-12-07T16:03:16.295911Z"
    },
    "papermill": {
     "duration": 0.013114,
     "end_time": "2022-12-07T16:03:16.299195",
     "exception": false,
     "start_time": "2022-12-07T16:03:16.286081",
     "status": "completed"
    },
    "tags": []
   },
   "outputs": [],
   "source": [
    "def quad_mae(params):\n",
    "    f = mk_quad(*params)\n",
    "    return mae(f(x), y)"
   ]
  },
  {
   "cell_type": "code",
   "execution_count": 8,
   "id": "3f0d4444",
   "metadata": {
    "execution": {
     "iopub.execute_input": "2022-12-07T16:03:16.310107Z",
     "iopub.status.busy": "2022-12-07T16:03:16.309473Z",
     "iopub.status.idle": "2022-12-07T16:03:16.314299Z",
     "shell.execute_reply": "2022-12-07T16:03:16.313493Z"
    },
    "papermill": {
     "duration": 0.012983,
     "end_time": "2022-12-07T16:03:16.316585",
     "exception": false,
     "start_time": "2022-12-07T16:03:16.303602",
     "status": "completed"
    },
    "tags": []
   },
   "outputs": [],
   "source": [
    "import torch\n",
    "abc = torch.Tensor([1.1, 1.1, 1.1])"
   ]
  },
  {
   "cell_type": "code",
   "execution_count": 9,
   "id": "b8b0755e",
   "metadata": {
    "execution": {
     "iopub.execute_input": "2022-12-07T16:03:16.327423Z",
     "iopub.status.busy": "2022-12-07T16:03:16.326963Z",
     "iopub.status.idle": "2022-12-07T16:03:16.336489Z",
     "shell.execute_reply": "2022-12-07T16:03:16.335426Z"
    },
    "papermill": {
     "duration": 0.017898,
     "end_time": "2022-12-07T16:03:16.339147",
     "exception": false,
     "start_time": "2022-12-07T16:03:16.321249",
     "status": "completed"
    },
    "tags": []
   },
   "outputs": [],
   "source": [
    "abc.requires_grad_()\n",
    "\n",
    "loss = quad_mae(abc)"
   ]
  },
  {
   "cell_type": "code",
   "execution_count": 10,
   "id": "8f969672",
   "metadata": {
    "execution": {
     "iopub.execute_input": "2022-12-07T16:03:16.349620Z",
     "iopub.status.busy": "2022-12-07T16:03:16.349205Z",
     "iopub.status.idle": "2022-12-07T16:03:16.374884Z",
     "shell.execute_reply": "2022-12-07T16:03:16.373591Z"
    },
    "papermill": {
     "duration": 0.034528,
     "end_time": "2022-12-07T16:03:16.378135",
     "exception": false,
     "start_time": "2022-12-07T16:03:16.343607",
     "status": "completed"
    },
    "tags": []
   },
   "outputs": [
    {
     "name": "stdout",
     "output_type": "stream",
     "text": [
      "step=0; loss=2.42\n",
      "step=1; loss=2.40\n",
      "step=2; loss=2.36\n",
      "step=3; loss=2.30\n",
      "step=4; loss=2.21\n",
      "step=5; loss=2.11\n",
      "step=6; loss=1.98\n",
      "step=7; loss=1.85\n",
      "step=8; loss=1.72\n",
      "step=9; loss=1.58\n"
     ]
    }
   ],
   "source": [
    "for i in range(10):\n",
    "    loss = quad_mae(abc)\n",
    "    loss.backward()\n",
    "    with torch.no_grad(): abc -= abc.grad*0.01\n",
    "    print(f'step={i}; loss={loss:.2f}')"
   ]
  },
  {
   "cell_type": "markdown",
   "id": "a61057ad",
   "metadata": {
    "papermill": {
     "duration": 0.004081,
     "end_time": "2022-12-07T16:03:16.386833",
     "exception": false,
     "start_time": "2022-12-07T16:03:16.382752",
     "status": "completed"
    },
    "tags": []
   },
   "source": [
    "## Take Away\n",
    "\n",
    "1. [Matrix multiplication]() is the key to quickly calculate multuplication and addition of inputs and parameters.\n",
    "2. [Gradient descent]() is the tool used to understand how to minimize the loss function, since loss function composed by parameters ``abc``.\n",
    "3. [Rectified Linear function](), known as [ReLU](), is a linear function which takes input and the ouput is equals to the input. If the input is negative the output is zero. It's defined as: $f(x) = max(0, x)$"
   ]
  },
  {
   "cell_type": "markdown",
   "id": "bb3d6c0a",
   "metadata": {
    "papermill": {
     "duration": 0.00396,
     "end_time": "2022-12-07T16:03:16.395081",
     "exception": false,
     "start_time": "2022-12-07T16:03:16.391121",
     "status": "completed"
    },
    "tags": []
   },
   "source": [
    "### Further Work\n",
    "1. Ankify:\n",
    "    - [ ] Matrix multiplication\n",
    "    - [ ] Gradient descent\n",
    "    - [ ] ReLU\n",
    "    - [ ] End to end GD which every DL model is based on\n",
    "2. [ ] Develop a Neural Network from scratch"
   ]
  },
  {
   "cell_type": "markdown",
   "id": "f98783d0",
   "metadata": {
    "papermill": {
     "duration": 0.003941,
     "end_time": "2022-12-07T16:03:16.403222",
     "exception": false,
     "start_time": "2022-12-07T16:03:16.399281",
     "status": "completed"
    },
    "tags": []
   },
   "source": [
    "---\n",
    "## References:\n",
    "- [Neural net foundations - Jeremy Howard, 2022](https://course.fast.ai/Lessons/lesson3.html)\n",
    "- [How does a neural net really work? - Jeremy Howard, 2022](https://www.kaggle.com/code/jhoward/how-does-a-neural-net-really-work)\n",
    "- Chatting with [ChatGPT](https://chat.openai.com/)"
   ]
  }
 ],
 "metadata": {
  "kernelspec": {
   "display_name": "Python 3",
   "language": "python",
   "name": "python3"
  },
  "language_info": {
   "codemirror_mode": {
    "name": "ipython",
    "version": 3
   },
   "file_extension": ".py",
   "mimetype": "text/x-python",
   "name": "python",
   "nbconvert_exporter": "python",
   "pygments_lexer": "ipython3",
   "version": "3.7.12"
  },
  "papermill": {
   "default_parameters": {},
   "duration": 12.171331,
   "end_time": "2022-12-07T16:03:17.229540",
   "environment_variables": {},
   "exception": null,
   "input_path": "__notebook__.ipynb",
   "output_path": "__notebook__.ipynb",
   "parameters": {},
   "start_time": "2022-12-07T16:03:05.058209",
   "version": "2.3.4"
  }
 },
 "nbformat": 4,
 "nbformat_minor": 5
}
