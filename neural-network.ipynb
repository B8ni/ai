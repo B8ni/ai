{
 "cells": [
  {
   "cell_type": "markdown",
   "id": "9beca804",
   "metadata": {
    "papermill": {
     "duration": 0.005584,
     "end_time": "2022-12-07T15:47:49.153435",
     "exception": false,
     "start_time": "2022-12-07T15:47:49.147851",
     "status": "completed"
    },
    "tags": []
   },
   "source": [
    "# Neural Network"
   ]
  },
  {
   "cell_type": "markdown",
   "id": "f9f63697",
   "metadata": {
    "papermill": {
     "duration": 0.004115,
     "end_time": "2022-12-07T15:47:49.162099",
     "exception": false,
     "start_time": "2022-12-07T15:47:49.157984",
     "status": "completed"
    },
    "tags": []
   },
   "source": [
    "## One Liner Definition\n",
    "Neural Network is a mathematical function. \n",
    "\n",
    "This mathematical function is based on inputs and parameters.\n",
    "\n",
    "Inputs and parameters are multiplied and added them up. Negative values are set to zero.\n",
    "\n",
    "These operations are repeated untill the error of prediction is minimized."
   ]
  },
  {
   "cell_type": "markdown",
   "id": "9e3bfcbd",
   "metadata": {
    "papermill": {
     "duration": 0.004095,
     "end_time": "2022-12-07T15:47:49.170539",
     "exception": false,
     "start_time": "2022-12-07T15:47:49.166444",
     "status": "completed"
    },
    "tags": []
   },
   "source": [
    "## Motivation\n",
    "\n",
    "Those 3 simple steps are the foundation of any deep learning model.\n",
    "\n",
    "Implicitally they touch most important parts of NN:\n",
    "1. Inputs and parameters are multiplied and added them up => [Matrix multiplication]();\n",
    "2. Negative values are set to zero => [Rectified Linear function]();\n",
    "3. Operations repeated untill error of prediction is minimized => [Gradient descent]() on [Loss function]().\n",
    "\n",
    "The most complex deep learning model is built on these foundamentals. Deeply understanding them will help to breaking every complex model out."
   ]
  },
  {
   "cell_type": "markdown",
   "id": "9f2dbf7f",
   "metadata": {
    "papermill": {
     "duration": 0.004179,
     "end_time": "2022-12-07T15:47:49.179588",
     "exception": false,
     "start_time": "2022-12-07T15:47:49.175409",
     "status": "completed"
    },
    "tags": []
   },
   "source": [
    "## Implementation"
   ]
  },
  {
   "cell_type": "code",
   "execution_count": 1,
   "id": "cbd3dc0a",
   "metadata": {
    "execution": {
     "iopub.execute_input": "2022-12-07T15:47:49.190829Z",
     "iopub.status.busy": "2022-12-07T15:47:49.190310Z",
     "iopub.status.idle": "2022-12-07T15:47:49.201890Z",
     "shell.execute_reply": "2022-12-07T15:47:49.200657Z"
    },
    "papermill": {
     "duration": 0.020268,
     "end_time": "2022-12-07T15:47:49.204598",
     "exception": false,
     "start_time": "2022-12-07T15:47:49.184330",
     "status": "completed"
    },
    "tags": []
   },
   "outputs": [],
   "source": [
    "def f(x): return  3*x**2 + 2*x + 1"
   ]
  },
  {
   "cell_type": "code",
   "execution_count": 2,
   "id": "cee4eef5",
   "metadata": {
    "execution": {
     "iopub.execute_input": "2022-12-07T15:47:49.215688Z",
     "iopub.status.busy": "2022-12-07T15:47:49.215276Z",
     "iopub.status.idle": "2022-12-07T15:47:49.220570Z",
     "shell.execute_reply": "2022-12-07T15:47:49.219314Z"
    },
    "papermill": {
     "duration": 0.014111,
     "end_time": "2022-12-07T15:47:49.223379",
     "exception": false,
     "start_time": "2022-12-07T15:47:49.209268",
     "status": "completed"
    },
    "tags": []
   },
   "outputs": [],
   "source": [
    "def quad(a, b, c, x): return a*x**2 + b*x + c"
   ]
  },
  {
   "cell_type": "code",
   "execution_count": 3,
   "id": "54523ef7",
   "metadata": {
    "execution": {
     "iopub.execute_input": "2022-12-07T15:47:49.234302Z",
     "iopub.status.busy": "2022-12-07T15:47:49.233882Z",
     "iopub.status.idle": "2022-12-07T15:47:49.239735Z",
     "shell.execute_reply": "2022-12-07T15:47:49.238586Z"
    },
    "papermill": {
     "duration": 0.014112,
     "end_time": "2022-12-07T15:47:49.242014",
     "exception": false,
     "start_time": "2022-12-07T15:47:49.227902",
     "status": "completed"
    },
    "tags": []
   },
   "outputs": [],
   "source": [
    "def noise(x, scale): return np.random.normal(scale=scale, size=x.shape)\n",
    "def add_noise(x, mult, add): return x * (1+noise(x,mult)) + noise(x,add)"
   ]
  },
  {
   "cell_type": "code",
   "execution_count": 4,
   "id": "f7d4a43f",
   "metadata": {
    "execution": {
     "iopub.execute_input": "2022-12-07T15:47:49.253275Z",
     "iopub.status.busy": "2022-12-07T15:47:49.252849Z",
     "iopub.status.idle": "2022-12-07T15:47:51.449121Z",
     "shell.execute_reply": "2022-12-07T15:47:51.447944Z"
    },
    "papermill": {
     "duration": 2.205754,
     "end_time": "2022-12-07T15:47:51.452356",
     "exception": false,
     "start_time": "2022-12-07T15:47:49.246602",
     "status": "completed"
    },
    "tags": []
   },
   "outputs": [],
   "source": [
    "import numpy as np\n",
    "import torch\n",
    "\n",
    "np.random.seed(42)\n",
    "\n",
    "x = torch.linspace(-2, 2, steps=20)[:,None]\n",
    "y = add_noise(f(x), 0.15, 1.5)"
   ]
  },
  {
   "cell_type": "code",
   "execution_count": 5,
   "id": "ec45f467",
   "metadata": {
    "execution": {
     "iopub.execute_input": "2022-12-07T15:47:51.463794Z",
     "iopub.status.busy": "2022-12-07T15:47:51.463165Z",
     "iopub.status.idle": "2022-12-07T15:47:51.469615Z",
     "shell.execute_reply": "2022-12-07T15:47:51.468167Z"
    },
    "papermill": {
     "duration": 0.014953,
     "end_time": "2022-12-07T15:47:51.471961",
     "exception": false,
     "start_time": "2022-12-07T15:47:51.457008",
     "status": "completed"
    },
    "tags": []
   },
   "outputs": [],
   "source": [
    "from functools import partial\n",
    "\n",
    "def mk_quad(a, b, c): return partial(quad, a, b, c)"
   ]
  },
  {
   "cell_type": "code",
   "execution_count": 6,
   "id": "826be52b",
   "metadata": {
    "execution": {
     "iopub.execute_input": "2022-12-07T15:47:51.483026Z",
     "iopub.status.busy": "2022-12-07T15:47:51.482480Z",
     "iopub.status.idle": "2022-12-07T15:47:51.488790Z",
     "shell.execute_reply": "2022-12-07T15:47:51.487590Z"
    },
    "papermill": {
     "duration": 0.015086,
     "end_time": "2022-12-07T15:47:51.491603",
     "exception": false,
     "start_time": "2022-12-07T15:47:51.476517",
     "status": "completed"
    },
    "tags": []
   },
   "outputs": [],
   "source": [
    "def mae(pred, actual): return torch.abs(pred-actual).mean()"
   ]
  },
  {
   "cell_type": "code",
   "execution_count": 7,
   "id": "f3f6650a",
   "metadata": {
    "execution": {
     "iopub.execute_input": "2022-12-07T15:47:51.502301Z",
     "iopub.status.busy": "2022-12-07T15:47:51.501868Z",
     "iopub.status.idle": "2022-12-07T15:47:51.507356Z",
     "shell.execute_reply": "2022-12-07T15:47:51.506278Z"
    },
    "papermill": {
     "duration": 0.01347,
     "end_time": "2022-12-07T15:47:51.509609",
     "exception": false,
     "start_time": "2022-12-07T15:47:51.496139",
     "status": "completed"
    },
    "tags": []
   },
   "outputs": [],
   "source": [
    "def quad_mae(params):\n",
    "    f = mk_quad(*params)\n",
    "    return mae(f(x), y)"
   ]
  },
  {
   "cell_type": "code",
   "execution_count": 8,
   "id": "3c657727",
   "metadata": {
    "execution": {
     "iopub.execute_input": "2022-12-07T15:47:51.520761Z",
     "iopub.status.busy": "2022-12-07T15:47:51.520342Z",
     "iopub.status.idle": "2022-12-07T15:47:51.524817Z",
     "shell.execute_reply": "2022-12-07T15:47:51.523947Z"
    },
    "papermill": {
     "duration": 0.012775,
     "end_time": "2022-12-07T15:47:51.526993",
     "exception": false,
     "start_time": "2022-12-07T15:47:51.514218",
     "status": "completed"
    },
    "tags": []
   },
   "outputs": [],
   "source": [
    "import torch\n",
    "abc = torch.Tensor([1.1, 1.1, 1.1])"
   ]
  },
  {
   "cell_type": "code",
   "execution_count": 9,
   "id": "29476b7d",
   "metadata": {
    "execution": {
     "iopub.execute_input": "2022-12-07T15:47:51.538258Z",
     "iopub.status.busy": "2022-12-07T15:47:51.537490Z",
     "iopub.status.idle": "2022-12-07T15:47:51.546044Z",
     "shell.execute_reply": "2022-12-07T15:47:51.544638Z"
    },
    "papermill": {
     "duration": 0.01773,
     "end_time": "2022-12-07T15:47:51.549268",
     "exception": false,
     "start_time": "2022-12-07T15:47:51.531538",
     "status": "completed"
    },
    "tags": []
   },
   "outputs": [],
   "source": [
    "abc.requires_grad_()\n",
    "\n",
    "loss = quad_mae(abc)"
   ]
  },
  {
   "cell_type": "code",
   "execution_count": 10,
   "id": "b1cf9842",
   "metadata": {
    "execution": {
     "iopub.execute_input": "2022-12-07T15:47:51.560280Z",
     "iopub.status.busy": "2022-12-07T15:47:51.559862Z",
     "iopub.status.idle": "2022-12-07T15:47:51.589678Z",
     "shell.execute_reply": "2022-12-07T15:47:51.588391Z"
    },
    "papermill": {
     "duration": 0.039094,
     "end_time": "2022-12-07T15:47:51.592880",
     "exception": false,
     "start_time": "2022-12-07T15:47:51.553786",
     "status": "completed"
    },
    "tags": []
   },
   "outputs": [
    {
     "name": "stdout",
     "output_type": "stream",
     "text": [
      "step=0; loss=2.42\n",
      "step=1; loss=2.40\n",
      "step=2; loss=2.36\n",
      "step=3; loss=2.30\n",
      "step=4; loss=2.21\n",
      "step=5; loss=2.11\n",
      "step=6; loss=1.98\n",
      "step=7; loss=1.85\n",
      "step=8; loss=1.72\n",
      "step=9; loss=1.58\n"
     ]
    }
   ],
   "source": [
    "for i in range(10):\n",
    "    loss = quad_mae(abc)\n",
    "    loss.backward()\n",
    "    with torch.no_grad(): abc -= abc.grad*0.01\n",
    "    print(f'step={i}; loss={loss:.2f}')"
   ]
  },
  {
   "cell_type": "markdown",
   "id": "e996ad43",
   "metadata": {
    "papermill": {
     "duration": 0.00429,
     "end_time": "2022-12-07T15:47:51.602124",
     "exception": false,
     "start_time": "2022-12-07T15:47:51.597834",
     "status": "completed"
    },
    "tags": []
   },
   "source": [
    "## Take Away\n",
    "\n",
    "1. [Matrix multiplication]() is the key to quickly calculate multuplication and addition of inputs and parameters.\n",
    "2. [Gradient descent]() is the tool used to understand how to minimize the loss function, since loss function composed by parameters ``abc``.\n",
    "3. [Rectified Linear function](), known as [ReLU](), is a linear function which takes input and the ouput is equals to the input. If the input is negative the output is zero. It's defined as: $f(x) = max(0, x)$"
   ]
  },
  {
   "cell_type": "markdown",
   "id": "30e074f9",
   "metadata": {
    "papermill": {
     "duration": 0.0042,
     "end_time": "2022-12-07T15:47:51.610833",
     "exception": false,
     "start_time": "2022-12-07T15:47:51.606633",
     "status": "completed"
    },
    "tags": []
   },
   "source": [
    "### Further Work\n",
    "1. Ankify:\n",
    "    - [ ] Matrix multiplication\n",
    "    - [ ] Gradient descent\n",
    "    - [ ] ReLU\n",
    "    - [ ] Foundamental inner loop to minimize the error which every DL model is based on\n",
    "2. [ ] Develop a Neural Network from scratch"
   ]
  },
  {
   "cell_type": "markdown",
   "id": "4f6fdc46",
   "metadata": {
    "papermill": {
     "duration": 0.004239,
     "end_time": "2022-12-07T15:47:51.619628",
     "exception": false,
     "start_time": "2022-12-07T15:47:51.615389",
     "status": "completed"
    },
    "tags": []
   },
   "source": [
    "---\n",
    "## References:\n",
    "- [Neural net foundations - Jeremy Howard, 2022](https://course.fast.ai/Lessons/lesson3.html)\n",
    "- [How does a neural net really work? - Jeremy Howard, 2022](https://www.kaggle.com/code/jhoward/how-does-a-neural-net-really-work)\n",
    "- Chatting with [ChatGPT](https://chat.openai.com/)"
   ]
  }
 ],
 "metadata": {
  "kernelspec": {
   "display_name": "Python 3",
   "language": "python",
   "name": "python3"
  },
  "language_info": {
   "codemirror_mode": {
    "name": "ipython",
    "version": 3
   },
   "file_extension": ".py",
   "mimetype": "text/x-python",
   "name": "python",
   "nbconvert_exporter": "python",
   "pygments_lexer": "ipython3",
   "version": "3.7.12"
  },
  "papermill": {
   "default_parameters": {},
   "duration": 13.406867,
   "end_time": "2022-12-07T15:47:52.548028",
   "environment_variables": {},
   "exception": null,
   "input_path": "__notebook__.ipynb",
   "output_path": "__notebook__.ipynb",
   "parameters": {},
   "start_time": "2022-12-07T15:47:39.141161",
   "version": "2.3.4"
  }
 },
 "nbformat": 4,
 "nbformat_minor": 5
}
