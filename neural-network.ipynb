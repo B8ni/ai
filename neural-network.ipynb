{
 "cells": [
  {
   "cell_type": "markdown",
   "id": "8dc1c0bd",
   "metadata": {
    "papermill": {
     "duration": 0.005979,
     "end_time": "2022-12-07T14:41:32.404898",
     "exception": false,
     "start_time": "2022-12-07T14:41:32.398919",
     "status": "completed"
    },
    "tags": []
   },
   "source": [
    "# Neural Network"
   ]
  },
  {
   "cell_type": "markdown",
   "id": "2f465bcd",
   "metadata": {
    "papermill": {
     "duration": 0.004379,
     "end_time": "2022-12-07T14:41:32.413995",
     "exception": false,
     "start_time": "2022-12-07T14:41:32.409616",
     "status": "completed"
    },
    "tags": []
   },
   "source": [
    "## One Liner Definition\n",
    "Neural Network is a mathematical function. \n",
    "\n",
    "This mathematical function is based on inputs and parameters.\n",
    "\n",
    "Inputs and parameters are multiplied and added them up. Negative values are set to zero.\n",
    "\n",
    "These operations are repeated untill the error of prediction is minimized."
   ]
  },
  {
   "cell_type": "markdown",
   "id": "ed2e58c7",
   "metadata": {
    "papermill": {
     "duration": 0.004305,
     "end_time": "2022-12-07T14:41:32.423053",
     "exception": false,
     "start_time": "2022-12-07T14:41:32.418748",
     "status": "completed"
    },
    "tags": []
   },
   "source": [
    "## Motivation\n",
    "\n",
    "Those 3 simple steps are the foundation of any deep learning model.\n",
    "\n",
    "Implicitally they touch most important parts of NN:\n",
    "1. Inputs and parameters are multiplied and added them up => [Matrix multiplication]();\n",
    "2. Negative values are set to zero => [Rectified Linear function]();\n",
    "3. Operations repeated untill error of prediction is minimized => [Gradient descent]() on [Loss function]().\n",
    "\n",
    "The most complex deep learning model is built on these foundamentals. Deeply understanding them will help to breaking every complex model out."
   ]
  },
  {
   "cell_type": "markdown",
   "id": "4af61e21",
   "metadata": {
    "papermill": {
     "duration": 0.004076,
     "end_time": "2022-12-07T14:41:32.431676",
     "exception": false,
     "start_time": "2022-12-07T14:41:32.427600",
     "status": "completed"
    },
    "tags": []
   },
   "source": [
    "## Implementation"
   ]
  },
  {
   "cell_type": "code",
   "execution_count": 1,
   "id": "bf0bac13",
   "metadata": {
    "execution": {
     "iopub.execute_input": "2022-12-07T14:41:32.443146Z",
     "iopub.status.busy": "2022-12-07T14:41:32.442651Z",
     "iopub.status.idle": "2022-12-07T14:41:32.453333Z",
     "shell.execute_reply": "2022-12-07T14:41:32.452361Z"
    },
    "papermill": {
     "duration": 0.01983,
     "end_time": "2022-12-07T14:41:32.455940",
     "exception": false,
     "start_time": "2022-12-07T14:41:32.436110",
     "status": "completed"
    },
    "tags": []
   },
   "outputs": [],
   "source": [
    "def f(x): return  3*x**2 + 2*x + 1"
   ]
  },
  {
   "cell_type": "code",
   "execution_count": 2,
   "id": "dc21372c",
   "metadata": {
    "execution": {
     "iopub.execute_input": "2022-12-07T14:41:32.466870Z",
     "iopub.status.busy": "2022-12-07T14:41:32.466422Z",
     "iopub.status.idle": "2022-12-07T14:41:32.471584Z",
     "shell.execute_reply": "2022-12-07T14:41:32.470575Z"
    },
    "papermill": {
     "duration": 0.013555,
     "end_time": "2022-12-07T14:41:32.474128",
     "exception": false,
     "start_time": "2022-12-07T14:41:32.460573",
     "status": "completed"
    },
    "tags": []
   },
   "outputs": [],
   "source": [
    "def quad(a, b, c, x): return a*x**2 + b*x + c"
   ]
  },
  {
   "cell_type": "code",
   "execution_count": 3,
   "id": "4b95135b",
   "metadata": {
    "execution": {
     "iopub.execute_input": "2022-12-07T14:41:32.485415Z",
     "iopub.status.busy": "2022-12-07T14:41:32.484606Z",
     "iopub.status.idle": "2022-12-07T14:41:32.490298Z",
     "shell.execute_reply": "2022-12-07T14:41:32.489349Z"
    },
    "papermill": {
     "duration": 0.013985,
     "end_time": "2022-12-07T14:41:32.492676",
     "exception": false,
     "start_time": "2022-12-07T14:41:32.478691",
     "status": "completed"
    },
    "tags": []
   },
   "outputs": [],
   "source": [
    "def noise(x, scale): return np.random.normal(scale=scale, size=x.shape)\n",
    "def add_noise(x, mult, add): return x * (1+noise(x,mult)) + noise(x,add)"
   ]
  },
  {
   "cell_type": "code",
   "execution_count": 4,
   "id": "1ace15cd",
   "metadata": {
    "execution": {
     "iopub.execute_input": "2022-12-07T14:41:32.504409Z",
     "iopub.status.busy": "2022-12-07T14:41:32.503566Z",
     "iopub.status.idle": "2022-12-07T14:41:34.658848Z",
     "shell.execute_reply": "2022-12-07T14:41:34.657634Z"
    },
    "papermill": {
     "duration": 2.164523,
     "end_time": "2022-12-07T14:41:34.661799",
     "exception": false,
     "start_time": "2022-12-07T14:41:32.497276",
     "status": "completed"
    },
    "tags": []
   },
   "outputs": [],
   "source": [
    "import numpy as np\n",
    "import torch\n",
    "\n",
    "np.random.seed(42)\n",
    "\n",
    "x = torch.linspace(-2, 2, steps=20)[:,None]\n",
    "y = add_noise(f(x), 0.15, 1.5)"
   ]
  },
  {
   "cell_type": "code",
   "execution_count": 5,
   "id": "60abede1",
   "metadata": {
    "execution": {
     "iopub.execute_input": "2022-12-07T14:41:34.672559Z",
     "iopub.status.busy": "2022-12-07T14:41:34.671975Z",
     "iopub.status.idle": "2022-12-07T14:41:34.677994Z",
     "shell.execute_reply": "2022-12-07T14:41:34.676689Z"
    },
    "papermill": {
     "duration": 0.014169,
     "end_time": "2022-12-07T14:41:34.680404",
     "exception": false,
     "start_time": "2022-12-07T14:41:34.666235",
     "status": "completed"
    },
    "tags": []
   },
   "outputs": [],
   "source": [
    "from functools import partial\n",
    "\n",
    "def mk_quad(a, b, c): return partial(quad, a, b, c)"
   ]
  },
  {
   "cell_type": "code",
   "execution_count": 6,
   "id": "166df940",
   "metadata": {
    "execution": {
     "iopub.execute_input": "2022-12-07T14:41:34.691213Z",
     "iopub.status.busy": "2022-12-07T14:41:34.690806Z",
     "iopub.status.idle": "2022-12-07T14:41:34.696544Z",
     "shell.execute_reply": "2022-12-07T14:41:34.695211Z"
    },
    "papermill": {
     "duration": 0.014097,
     "end_time": "2022-12-07T14:41:34.698952",
     "exception": false,
     "start_time": "2022-12-07T14:41:34.684855",
     "status": "completed"
    },
    "tags": []
   },
   "outputs": [],
   "source": [
    "def mae(pred, actual): return torch.abs(pred-actual).mean()"
   ]
  },
  {
   "cell_type": "code",
   "execution_count": 7,
   "id": "07f7a59b",
   "metadata": {
    "execution": {
     "iopub.execute_input": "2022-12-07T14:41:34.709168Z",
     "iopub.status.busy": "2022-12-07T14:41:34.708724Z",
     "iopub.status.idle": "2022-12-07T14:41:34.714591Z",
     "shell.execute_reply": "2022-12-07T14:41:34.713420Z"
    },
    "papermill": {
     "duration": 0.013681,
     "end_time": "2022-12-07T14:41:34.716902",
     "exception": false,
     "start_time": "2022-12-07T14:41:34.703221",
     "status": "completed"
    },
    "tags": []
   },
   "outputs": [],
   "source": [
    "def quad_mae(params):\n",
    "    f = mk_quad(*params)\n",
    "    return mae(f(x), y)"
   ]
  },
  {
   "cell_type": "code",
   "execution_count": 8,
   "id": "58b8d7e9",
   "metadata": {
    "execution": {
     "iopub.execute_input": "2022-12-07T14:41:34.728332Z",
     "iopub.status.busy": "2022-12-07T14:41:34.727852Z",
     "iopub.status.idle": "2022-12-07T14:41:34.734279Z",
     "shell.execute_reply": "2022-12-07T14:41:34.733140Z"
    },
    "papermill": {
     "duration": 0.015112,
     "end_time": "2022-12-07T14:41:34.736796",
     "exception": false,
     "start_time": "2022-12-07T14:41:34.721684",
     "status": "completed"
    },
    "tags": []
   },
   "outputs": [],
   "source": [
    "import torch\n",
    "abc = torch.Tensor([1.1, 1.1, 1.1])"
   ]
  },
  {
   "cell_type": "code",
   "execution_count": 9,
   "id": "fd5238d6",
   "metadata": {
    "execution": {
     "iopub.execute_input": "2022-12-07T14:41:34.747428Z",
     "iopub.status.busy": "2022-12-07T14:41:34.746984Z",
     "iopub.status.idle": "2022-12-07T14:41:34.754645Z",
     "shell.execute_reply": "2022-12-07T14:41:34.753670Z"
    },
    "papermill": {
     "duration": 0.015457,
     "end_time": "2022-12-07T14:41:34.756827",
     "exception": false,
     "start_time": "2022-12-07T14:41:34.741370",
     "status": "completed"
    },
    "tags": []
   },
   "outputs": [],
   "source": [
    "abc.requires_grad_()\n",
    "\n",
    "loss = quad_mae(abc)"
   ]
  },
  {
   "cell_type": "code",
   "execution_count": 10,
   "id": "e7af5675",
   "metadata": {
    "execution": {
     "iopub.execute_input": "2022-12-07T14:41:34.767359Z",
     "iopub.status.busy": "2022-12-07T14:41:34.766985Z",
     "iopub.status.idle": "2022-12-07T14:41:34.796731Z",
     "shell.execute_reply": "2022-12-07T14:41:34.795283Z"
    },
    "papermill": {
     "duration": 0.038323,
     "end_time": "2022-12-07T14:41:34.799446",
     "exception": false,
     "start_time": "2022-12-07T14:41:34.761123",
     "status": "completed"
    },
    "tags": []
   },
   "outputs": [
    {
     "name": "stdout",
     "output_type": "stream",
     "text": [
      "step=0; loss=2.42\n",
      "step=1; loss=2.40\n",
      "step=2; loss=2.36\n",
      "step=3; loss=2.30\n",
      "step=4; loss=2.21\n",
      "step=5; loss=2.11\n",
      "step=6; loss=1.98\n",
      "step=7; loss=1.85\n",
      "step=8; loss=1.72\n",
      "step=9; loss=1.58\n"
     ]
    }
   ],
   "source": [
    "for i in range(10):\n",
    "    loss = quad_mae(abc)\n",
    "    loss.backward()\n",
    "    with torch.no_grad(): abc -= abc.grad*0.01\n",
    "    print(f'step={i}; loss={loss:.2f}')"
   ]
  },
  {
   "cell_type": "markdown",
   "id": "2767433e",
   "metadata": {
    "papermill": {
     "duration": 0.004335,
     "end_time": "2022-12-07T14:41:34.808406",
     "exception": false,
     "start_time": "2022-12-07T14:41:34.804071",
     "status": "completed"
    },
    "tags": []
   },
   "source": [
    "## Take Away\n",
    "\n",
    "1. [Matrix multiplication]() is the key to quickly calculate multuplication and addition of inputs and parameters.\n",
    "2. [Gradient descent]() is the tool used to understand how to minimize the loss function, since loss function composed by parameters ``abc``.\n",
    "3. Rectified Linear function is "
   ]
  },
  {
   "cell_type": "markdown",
   "id": "5e271e26",
   "metadata": {
    "papermill": {
     "duration": 0.003986,
     "end_time": "2022-12-07T14:41:34.816762",
     "exception": false,
     "start_time": "2022-12-07T14:41:34.812776",
     "status": "completed"
    },
    "tags": []
   },
   "source": [
    "### Reflections"
   ]
  },
  {
   "cell_type": "markdown",
   "id": "b1d444bd",
   "metadata": {
    "papermill": {
     "duration": 0.003858,
     "end_time": "2022-12-07T14:41:34.824847",
     "exception": false,
     "start_time": "2022-12-07T14:41:34.820989",
     "status": "completed"
    },
    "tags": []
   },
   "source": [
    "---\n",
    "## References:\n",
    "- [Neural net foundations - Jeremy Howard, 2022](https://course.fast.ai/Lessons/lesson3.html)\n",
    "- [How does a neural net really work? - Jeremy Howard, 2022](https://www.kaggle.com/code/jhoward/how-does-a-neural-net-really-work)"
   ]
  }
 ],
 "metadata": {
  "kernelspec": {
   "display_name": "Python 3",
   "language": "python",
   "name": "python3"
  },
  "language_info": {
   "codemirror_mode": {
    "name": "ipython",
    "version": 3
   },
   "file_extension": ".py",
   "mimetype": "text/x-python",
   "name": "python",
   "nbconvert_exporter": "python",
   "pygments_lexer": "ipython3",
   "version": "3.7.12"
  },
  "papermill": {
   "default_parameters": {},
   "duration": 12.947297,
   "end_time": "2022-12-07T14:41:35.650499",
   "environment_variables": {},
   "exception": null,
   "input_path": "__notebook__.ipynb",
   "output_path": "__notebook__.ipynb",
   "parameters": {},
   "start_time": "2022-12-07T14:41:22.703202",
   "version": "2.3.4"
  }
 },
 "nbformat": 4,
 "nbformat_minor": 5
}
